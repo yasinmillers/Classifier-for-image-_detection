{
 "cells": [
  {
   "cell_type": "markdown",
   "id": "102b43b2",
   "metadata": {},
   "source": [
    "# CLASSIFIER"
   ]
  },
  {
   "cell_type": "code",
   "execution_count": 1,
   "id": "ad203f6c",
   "metadata": {},
   "outputs": [],
   "source": [
    "import os\n",
    "import cv2\n",
    "from PIL import Image\n",
    "import numpy as np"
   ]
  },
  {
   "cell_type": "code",
   "execution_count": 11,
   "id": "678028d5",
   "metadata": {},
   "outputs": [
    {
     "name": "stdout",
     "output_type": "stream",
     "text": [
      "Collecting opencv-contrib-python\n",
      "  Using cached opencv_contrib_python-4.5.3.56-cp37-cp37m-win_amd64.whl (41.8 MB)\n",
      "Requirement already satisfied: numpy>=1.14.5 in c:\\users\\personal\\anaconda3\\envs\\tensor\\lib\\site-packages (from opencv-contrib-python) (1.20.3)\n",
      "Installing collected packages: opencv-contrib-python\n",
      "Successfully installed opencv-contrib-python-4.5.3.56\n"
     ]
    }
   ],
   "source": [
    "!pip install opencv-contrib-python --user"
   ]
  },
  {
   "cell_type": "code",
   "execution_count": 2,
   "id": "ef839eca",
   "metadata": {},
   "outputs": [],
   "source": [
    "def train_classifier(data_dir):\n",
    "    path = [os.path.join(data_dir, f)for f in os.listdir(data_dir)]\n",
    "    \n",
    "    faces = []\n",
    "    ids = []\n",
    "    for image in path:\n",
    "        img = Image.open(image).convert('L')\n",
    "        imageNp = np.array(img, 'uint8')\n",
    "        id = int(os.path.split(image)[1].split('.')[1])\n",
    "        \n",
    "        faces.append(imageNp)\n",
    "        ids.append(id)\n",
    "    ids = np.array(ids)\n",
    "    ##train and save\n",
    "    clf = cv2.face.LBPHFaceRecognizer_create()\n",
    "    clf.train(faces,ids)\n",
    "    clf.write(\"classifier.xml\")\n",
    "train_classifier(\"data\")\n",
    "        "
   ]
  },
  {
   "cell_type": "markdown",
   "id": "a4419fe0",
   "metadata": {},
   "source": [
    "#give the names"
   ]
  },
  {
   "cell_type": "code",
   "execution_count": 3,
   "id": "e9dde3e1",
   "metadata": {},
   "outputs": [],
   "source": [
    "import cv2\n",
    "import numpy as np\n",
    "from PIL import Image\n",
    "import os"
   ]
  },
  {
   "cell_type": "code",
   "execution_count": 10,
   "id": "6d939563",
   "metadata": {
    "scrolled": true
   },
   "outputs": [
    {
     "ename": "error",
     "evalue": "OpenCV(4.5.3) C:\\Users\\runneradmin\\AppData\\Local\\Temp\\pip-req-build-_xlv4eex\\opencv\\modules\\imgproc\\src\\color.cpp:182: error: (-215:Assertion failed) !_src.empty() in function 'cv::cvtColor'\n",
     "output_type": "error",
     "traceback": [
      "\u001b[1;31m---------------------------------------------------------------------------\u001b[0m",
      "\u001b[1;31merror\u001b[0m                                     Traceback (most recent call last)",
      "\u001b[1;32m~\\AppData\\Local\\Temp/ipykernel_10040/1573861867.py\u001b[0m in \u001b[0;36m<module>\u001b[1;34m\u001b[0m\n\u001b[0;32m     29\u001b[0m \u001b[1;32mwhile\u001b[0m \u001b[1;32mTrue\u001b[0m\u001b[1;33m:\u001b[0m\u001b[1;33m\u001b[0m\u001b[1;33m\u001b[0m\u001b[0m\n\u001b[0;32m     30\u001b[0m     \u001b[0mret\u001b[0m\u001b[1;33m,\u001b[0m \u001b[0mimg\u001b[0m \u001b[1;33m=\u001b[0m \u001b[0mvideo_capture\u001b[0m\u001b[1;33m.\u001b[0m\u001b[0mread\u001b[0m\u001b[1;33m(\u001b[0m\u001b[1;33m)\u001b[0m\u001b[1;33m\u001b[0m\u001b[1;33m\u001b[0m\u001b[0m\n\u001b[1;32m---> 31\u001b[1;33m     \u001b[0mimg\u001b[0m \u001b[1;33m=\u001b[0m \u001b[0mdraw_boundary\u001b[0m\u001b[1;33m(\u001b[0m\u001b[0mimg\u001b[0m\u001b[1;33m,\u001b[0m \u001b[0mfaceCascade\u001b[0m\u001b[1;33m,\u001b[0m \u001b[1;36m1.3\u001b[0m\u001b[1;33m,\u001b[0m \u001b[1;36m6\u001b[0m\u001b[1;33m,\u001b[0m \u001b[1;33m(\u001b[0m\u001b[1;36m255\u001b[0m\u001b[1;33m,\u001b[0m\u001b[1;36m255\u001b[0m\u001b[1;33m,\u001b[0m\u001b[1;36m255\u001b[0m\u001b[1;33m)\u001b[0m\u001b[1;33m,\u001b[0m \u001b[1;34m\"Face\"\u001b[0m\u001b[1;33m,\u001b[0m \u001b[0mclf\u001b[0m\u001b[1;33m)\u001b[0m\u001b[1;33m\u001b[0m\u001b[1;33m\u001b[0m\u001b[0m\n\u001b[0m\u001b[0;32m     32\u001b[0m     \u001b[0mcv2\u001b[0m\u001b[1;33m.\u001b[0m\u001b[0mimshow\u001b[0m\u001b[1;33m(\u001b[0m\u001b[1;34m\"face Detected\"\u001b[0m\u001b[1;33m,\u001b[0m \u001b[0mimg\u001b[0m\u001b[1;33m)\u001b[0m\u001b[1;33m\u001b[0m\u001b[1;33m\u001b[0m\u001b[0m\n\u001b[0;32m     33\u001b[0m \u001b[1;33m\u001b[0m\u001b[0m\n",
      "\u001b[1;32m~\\AppData\\Local\\Temp/ipykernel_10040/1573861867.py\u001b[0m in \u001b[0;36mdraw_boundary\u001b[1;34m(img, classifier, scaleFactor, minNeighbors, color, text, clf)\u001b[0m\n\u001b[0;32m      1\u001b[0m \u001b[1;32mdef\u001b[0m \u001b[0mdraw_boundary\u001b[0m\u001b[1;33m(\u001b[0m\u001b[0mimg\u001b[0m\u001b[1;33m,\u001b[0m \u001b[0mclassifier\u001b[0m\u001b[1;33m,\u001b[0m\u001b[0mscaleFactor\u001b[0m\u001b[1;33m,\u001b[0m \u001b[0mminNeighbors\u001b[0m \u001b[1;33m,\u001b[0m\u001b[0mcolor\u001b[0m\u001b[1;33m,\u001b[0m \u001b[0mtext\u001b[0m\u001b[1;33m,\u001b[0m\u001b[0mclf\u001b[0m\u001b[1;33m)\u001b[0m\u001b[1;33m:\u001b[0m\u001b[1;33m\u001b[0m\u001b[1;33m\u001b[0m\u001b[0m\n\u001b[1;32m----> 2\u001b[1;33m     \u001b[0mgray_img\u001b[0m \u001b[1;33m=\u001b[0m \u001b[0mcv2\u001b[0m\u001b[1;33m.\u001b[0m\u001b[0mcvtColor\u001b[0m\u001b[1;33m(\u001b[0m\u001b[0mimg\u001b[0m\u001b[1;33m,\u001b[0m \u001b[0mcv2\u001b[0m\u001b[1;33m.\u001b[0m\u001b[0mCOLOR_BGR2GRAY\u001b[0m\u001b[1;33m)\u001b[0m\u001b[1;33m\u001b[0m\u001b[1;33m\u001b[0m\u001b[0m\n\u001b[0m\u001b[0;32m      3\u001b[0m     \u001b[0mfeatures\u001b[0m \u001b[1;33m=\u001b[0m \u001b[0mclassifier\u001b[0m\u001b[1;33m.\u001b[0m\u001b[0mdetectmultiscale\u001b[0m\u001b[1;33m(\u001b[0m\u001b[0mgray_img\u001b[0m\u001b[1;33m,\u001b[0m \u001b[0mminNeighbors\u001b[0m\u001b[1;33m)\u001b[0m\u001b[1;33m\u001b[0m\u001b[1;33m\u001b[0m\u001b[0m\n\u001b[0;32m      4\u001b[0m \u001b[1;33m\u001b[0m\u001b[0m\n\u001b[0;32m      5\u001b[0m     \u001b[1;32mfor\u001b[0m\u001b[1;33m(\u001b[0m\u001b[0mx\u001b[0m\u001b[1;33m,\u001b[0m\u001b[0my\u001b[0m\u001b[1;33m,\u001b[0m\u001b[0mw\u001b[0m\u001b[1;33m,\u001b[0m\u001b[0mh\u001b[0m\u001b[1;33m)\u001b[0m \u001b[1;32min\u001b[0m \u001b[0mfeatures\u001b[0m\u001b[1;33m:\u001b[0m\u001b[1;33m\u001b[0m\u001b[1;33m\u001b[0m\u001b[0m\n",
      "\u001b[1;31merror\u001b[0m: OpenCV(4.5.3) C:\\Users\\runneradmin\\AppData\\Local\\Temp\\pip-req-build-_xlv4eex\\opencv\\modules\\imgproc\\src\\color.cpp:182: error: (-215:Assertion failed) !_src.empty() in function 'cv::cvtColor'\n"
     ]
    }
   ],
   "source": [
    "def draw_boundary(img, classifier,scaleFactor, minNeighbors ,color, text,clf):\n",
    "    gray_img = cv2.cvtColor(img, cv2.COLOR_BGR2GRAY)\n",
    "    features = classifier.detectmultiscale(gray_img, minNeighbors)\n",
    "    \n",
    "    for(x,y,w,h) in features:\n",
    "        cv2.rectangle(img, (x,y),(x+w,y+h),colr,2)\n",
    "        \n",
    "        id, pred = clf.predict(gray_img[y:y+h,x:x+w])\n",
    "        confidence = int(100*(1-pred/300))\n",
    "        \n",
    "        if confidence>75:\n",
    "            if id==1:\n",
    "                cv2.putText(img,\"yasin\",(x,y-5),cv2.FONT_HESHEY_SIMPLEX, 0.8,color, 1, cv2.LINE_AA)\n",
    "            if id==2:\n",
    "                cv2.putText(img,\"Isophel\",(x,y-5),cv2.FONT_HESHEY_SIMPLEX, 0.8,color, 1, cv2.LINE_AA)\n",
    "            if id==3:\n",
    "                cv2.putText(img,\"tumusime\",(x,y-5),cv2.FONT_HESHEY_SIMPLE, 0.8,color, 1, cv2.LINE_AA)\n",
    "            else:\n",
    "                cv2.putText(img,\"unknown\",(x,y-5),cv2.FONT_HESHEY_SIMPLE, 0.8,(0,0,255), 1, cv2.LINE_AA)\n",
    "                \n",
    "    return img\n",
    "#loading the classifier\n",
    "faceCascade = cv2.CascadeClassifier(\"haarcascade_frontalface_default.xml\")\n",
    "clf = cv2.face.LBPHFaceRecognizer_create()\n",
    "clf.read(\"classifier.xml\")\n",
    "\n",
    "video_capture = cv2.VideoCapture(0)\n",
    "\n",
    "while True:\n",
    "    ret, img = video_capture.read()\n",
    "    img = draw_boundary(img, faceCascade, 1.3, 6, (255,255,255), \"Face\", clf)\n",
    "    cv2.imshow(\"face Detected\", img)\n",
    "    \n",
    "    if cv2.waitkey(1)==13:\n",
    "        break\n",
    "video_capture.release()\n",
    "cv2,destroyAllWindows()\n",
    " \n",
    "\n",
    " "
   ]
  },
  {
   "cell_type": "markdown",
   "id": "31788d44",
   "metadata": {},
   "source": [
    "##interfaces\n"
   ]
  },
  {
   "cell_type": "code",
   "execution_count": 2,
   "id": "f8b406bd",
   "metadata": {},
   "outputs": [],
   "source": [
    "import tkinter as tk\n",
    "from tkinter import messagebox"
   ]
  },
  {
   "cell_type": "code",
   "execution_count": null,
   "id": "04fc678f",
   "metadata": {},
   "outputs": [],
   "source": [
    "window = tk.Tk()\n",
    "window.title(\"facial recognition system\")\n",
    "l1 = tk.Label(window, text=\"name\", font=(\"Algerian\",20))\n",
    "l1.grid(column=0, row=0)\n",
    "t1 = tk.Entry(window, width=50, bd=5)\n",
    "t1.grid(column=1, row=0)\n",
    "\n",
    "l2 = tk.Label(window, text=\"age\", font=(\"Algerian\",20))\n",
    "l2.grid(column=0, row=1)\n",
    "t2 = tk.Entry(window, width=50, bd=5)\n",
    "t2.grid(column=1, row=1)\n",
    "\n",
    "l3 = tk.Label(window, text=\"address\", font=(\"Algerian\",20))\n",
    "l3.grid(column=0, row=2)\n",
    "t3 = tk.Entry(window, width=50, bd=5)\n",
    "t3.grid(column=1, row=2)\n",
    "\n",
    "b1 = tk.Button(window, text=\"training\", font=(\"Algerian\",20),bg=\"orange\", fg=\"red\")\n",
    "b1.grid(column=0,row=4)\n",
    "b2 = tk.Button(window, text=\"detect the face\", font=(\"Algerian\",20),bg=\"orange\", fg=\"red\")\n",
    "b2.grid(column=1,row=4)\n",
    "b1 = tk.Button(window, text=\"generate dataset\", font=(\"Algerian\",20),bg=\"green\", fg=\"white\")\n",
    "b1.grid(column=2,row=4)\n",
    "\n",
    "\n",
    "\n",
    "\n",
    "\n",
    "\n",
    "\n",
    "\n",
    "window.geometry(\"1000x600\")\n",
    "window.mainloop()"
   ]
  },
  {
   "cell_type": "markdown",
   "id": "04dab2b8",
   "metadata": {},
   "source": [
    "    #database connectivity"
   ]
  },
  {
   "cell_type": "code",
   "execution_count": 20,
   "id": "1b4b5bac",
   "metadata": {},
   "outputs": [],
   "source": [
    "import cv2\n",
    "import os\n",
    "from PIL import Image\n",
    "import numpy as np"
   ]
  },
  {
   "cell_type": "code",
   "execution_count": 30,
   "id": "1e8c7e49",
   "metadata": {},
   "outputs": [
    {
     "name": "stderr",
     "output_type": "stream",
     "text": [
      "<>:93: SyntaxWarning: \"is\" with a literal. Did you mean \"==\"?\n",
      "<>:93: SyntaxWarning: \"is\" with a literal. Did you mean \"==\"?\n"
     ]
    },
    {
     "ename": "AttributeError",
     "evalue": "module 'cv2.cv2' has no attribute 'cascadeClassifier'",
     "output_type": "error",
     "traceback": [
      "\u001b[1;31m---------------------------------------------------------------------------\u001b[0m",
      "\u001b[1;31mAttributeError\u001b[0m                            Traceback (most recent call last)",
      "\u001b[1;32m<ipython-input-30-5f6999638f18>\u001b[0m in \u001b[0;36m<module>\u001b[1;34m\u001b[0m\n\u001b[0;32m     63\u001b[0m     \u001b[1;32mreturn\u001b[0m \u001b[0mimg\u001b[0m\u001b[1;33m\u001b[0m\u001b[1;33m\u001b[0m\u001b[0m\n\u001b[0;32m     64\u001b[0m \u001b[1;31m#loading the classifier\u001b[0m\u001b[1;33m\u001b[0m\u001b[1;33m\u001b[0m\u001b[1;33m\u001b[0m\u001b[0m\n\u001b[1;32m---> 65\u001b[1;33m \u001b[0mfaceCascade\u001b[0m \u001b[1;33m=\u001b[0m \u001b[0mcv2\u001b[0m\u001b[1;33m.\u001b[0m\u001b[0mcascadeClassifier\u001b[0m\u001b[1;33m(\u001b[0m\u001b[1;34m\"haarcascade_frontalface_default.xml\"\u001b[0m\u001b[1;33m)\u001b[0m\u001b[1;33m\u001b[0m\u001b[1;33m\u001b[0m\u001b[0m\n\u001b[0m\u001b[0;32m     66\u001b[0m \u001b[0mclf\u001b[0m \u001b[1;33m=\u001b[0m \u001b[0mcv2\u001b[0m\u001b[1;33m.\u001b[0m\u001b[0mface\u001b[0m\u001b[1;33m.\u001b[0m\u001b[0mLBHFaceRecognizer_create\u001b[0m\u001b[1;33m(\u001b[0m\u001b[1;33m)\u001b[0m\u001b[1;33m\u001b[0m\u001b[1;33m\u001b[0m\u001b[0m\n\u001b[0;32m     67\u001b[0m \u001b[0mclf\u001b[0m\u001b[1;33m.\u001b[0m\u001b[0mread\u001b[0m\u001b[1;33m(\u001b[0m\u001b[1;34m\"classifier.xml\"\u001b[0m\u001b[1;33m)\u001b[0m\u001b[1;33m\u001b[0m\u001b[1;33m\u001b[0m\u001b[0m\n",
      "\u001b[1;31mAttributeError\u001b[0m: module 'cv2.cv2' has no attribute 'cascadeClassifier'"
     ]
    }
   ],
   "source": [
    "window = tk.Tk()\n",
    "window.title(\"facial recognition system\")\n",
    "l1 = tk.Label(window, text=\"name\", font=(\"Algerian\",20))\n",
    "l1.grid(column=0, row=0)\n",
    "t1 = tk.Entry(window, width=50, bd=5)\n",
    "t1.grid(column=1, row=0)\n",
    "\n",
    "l2 = tk.Label(window, text=\"age\", font=(\"Algerian\",20))\n",
    "l2.grid(column=0, row=1)\n",
    "t2 = tk.Entry(window, width=50, bd=5)\n",
    "t2.grid(column=1, row=1)\n",
    "\n",
    "l3 = tk.Label(window, text=\"address\", font=(\"Algerian\",20))\n",
    "l3.grid(column=0, row=2)\n",
    "t3 = tk.Entry(window, width=50, bd=5)\n",
    "t3.grid(column=1, row=2)\n",
    "\n",
    "def train_classifier():\n",
    "    data_dir =\"C:/Users/Personal/Desktop/FINAL YEAR PROJECT/data\"\n",
    "    path = [os.path.join(data_dir, f)for f in os.listdir(data_dir)]\n",
    "\n",
    "    faces = []\n",
    "    ids = []\n",
    "    for image in path:\n",
    "        img = Image.open(image).convert('L')\n",
    "        imageNp = np.array(img, 'uint8')\n",
    "        id = int(os.path.split(image)[1].split('.')[1])\n",
    "\n",
    "        faces.append(imageNp)\n",
    "        ids.append(id)\n",
    "    ids = np.array(ids)\n",
    "        ##train and save\n",
    "    clf = cv2.face.LBPHFaceRecognizer_create()\n",
    "    clf.train(faces,ids)\n",
    "    clf.write(\"classifier.xml\")\n",
    "    messagebox.shoinfo(\"Result\",\"Model trained completed.....\")\n",
    "    \n",
    "b1 = tk.Button(window, text=\"training\", font=(\"Algerian\",20),bg=\"orange\", fg=\"red\", command=train_classifier)\n",
    "b1.grid(column=0,row=4)\n",
    "\n",
    "def detect_face():\n",
    "    def draw_boundary(img, classifier,scaleFactor, minNeighbors ,color, text,clf):\n",
    "        \n",
    "        gray_img = cv2.cvtColor(img, cv2.COLOR_BGR2GRAY)\n",
    "        features = classifier.detectmultiscale(gray_img, minNeighbors)\n",
    "\n",
    "        for(x,y,w,h) in features:\n",
    "            cv2.rectangle(img, (x,y),(x+w,y+h),colr,2)\n",
    "\n",
    "            id, pred = clf.predict(gray_img[y:y+h,x:x+w])\n",
    "            confidence = int(100*(1-pred/300))\n",
    "\n",
    "        if confidence>75:\n",
    "            if id==1:\n",
    "                cv2.putText(img,\"yasin\",(x,y-5),cv2.FONT_HESHEY_SIMPLEX, 0.8,color, 1, cv2.LINE_AA)\n",
    "            if id==2:\n",
    "                cv2.putText(img,\"isophel\",(x,y-5),cv2.FONT_HESHEY_SIMPLEX, 0.8,color, 1, cv2.LINE_AA)\n",
    "            if id==3:\n",
    "                cv2.putText(img,\"tumusime\",(x,y-5),cv2.FONT_HESHEY_SIMPLE, 0.8,color, 1, cv2.LINE_AA)\n",
    "            else:\n",
    "                cv2.putText(img,\"unknown\",(x,y-5),cv2.FONT_HESHEY_SIMPLE, 0.8,(0,0,255), 1, cv2.LINE_AA)\n",
    "                \n",
    "    return img\n",
    "#loading the classifier\n",
    "faceCascade = cv2.cascadeClassifier(\"haarcascade_frontalface_default.xml\")\n",
    "clf = cv2.face.LBHFaceRecognizer_create()\n",
    "clf.read(\"classifier.xml\")\n",
    "\n",
    "video_capture = cv2.videoCapture(1)\n",
    "\n",
    "while True:\n",
    "    ret, img = video_capture.read()\n",
    "    img = draw_boundary(img,faceCascade, 1.3,6, (255,255,255), \"Face\", clf)\n",
    "    cv2.imshow(\"face Detected\", img)\n",
    "    \n",
    "    if cv2.waitkey(1)==13:\n",
    "        break\n",
    "video_capture.release()\n",
    "cv2,destroyAllWindows()\n",
    "\n",
    "\n",
    "b2 = tk.Button(window, text=\"detect the face\", font=(\"Algerian\",20),bg=\"orange\", fg=\"red\", command=detect_face)\n",
    "b2.grid(column=1,row=4)\n",
    "def generate_dataset():\n",
    "    \n",
    "    face_classifier = cv2.CascadeClassifier(\"haarcascade_frontalface_default.xml\")\n",
    "\n",
    "    def face_cropped(img):\n",
    "\n",
    "        gray = cv2.cvtColor(img, cv2.COLOR_BGR2GRAY)\n",
    "        faces = face_classifier.detectMultiScale(gray, 1.3, 5)\n",
    "\n",
    "        if faces is ():\n",
    "            return None\n",
    "        for (x, y, w, h) in faces:\n",
    "            cropped_face = img[y:y+h, x:x+w]\n",
    "        return cropped_face\n",
    "    cap = cv2.VideoCapture(0)\n",
    "    img_id = 0\n",
    "\n",
    "    while True:\n",
    "        ret, frame = cap.read()\n",
    "\n",
    "        if face_cropped(frame) is not None:\n",
    "\n",
    "            img_id += 1\n",
    "            face = cv2.resize(face_cropped(frame), (700, 700))\n",
    "            face = cv2.cvtColor(face, cv2.COLOR_BGR2GRAY)\n",
    "\n",
    "            file_name_path = \"data/\"+\"cap.\"+str(img_id)+\".jpg\"\n",
    "            cv2.imwrite(file_name_path, face)\n",
    "            cv2.putText(face, str(img_id), (50,50), cv2.FONT_HERSHEY_COMPLEX, 1, (0,255,0), 2 )\n",
    "\n",
    "            cv2.imshow(\"Cropped_Face\", face)\n",
    "            if cv2.waitKey(1)==13 or int(img_id) == 100:\n",
    "                break\n",
    "\n",
    "    cap.release()\n",
    "    cv2.destroyAllWindows()\n",
    "    messagebox.shoinfo(\"Result\",\"Generating dataset completed.....\")\n",
    "b3 = tk.Button(window, text=\"generate dataset\", font=(\"Algerian\",20),bg=\"green\", fg=\"white\", command=generate_dataset)\n",
    "b3.grid(column=2,row=4)\n",
    "\n",
    "\n",
    "\n",
    "\n",
    "\n",
    "\n",
    "\n",
    "\n",
    "window.geometry(\"1000x600\")\n",
    "window.mainloop()"
   ]
  },
  {
   "cell_type": "code",
   "execution_count": null,
   "id": "c6fc5123",
   "metadata": {},
   "outputs": [],
   "source": []
  }
 ],
 "metadata": {
  "kernelspec": {
   "display_name": "Python 3 (ipykernel)",
   "language": "python",
   "name": "python3"
  },
  "language_info": {
   "codemirror_mode": {
    "name": "ipython",
    "version": 3
   },
   "file_extension": ".py",
   "mimetype": "text/x-python",
   "name": "python",
   "nbconvert_exporter": "python",
   "pygments_lexer": "ipython3",
   "version": "3.7.11"
  }
 },
 "nbformat": 4,
 "nbformat_minor": 5
}
